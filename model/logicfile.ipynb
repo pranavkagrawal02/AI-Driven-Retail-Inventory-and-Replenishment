{
 "cells": [
  {
   "cell_type": "markdown",
   "id": "1dd42585",
   "metadata": {},
   "source": [
    "Input. array\\list: [12, 14, 15, 7, 15, 17, 5]\n",
    "\n",
    "Output: 1 2 3 1 5 6 1"
   ]
  },
  {
   "cell_type": "code",
   "execution_count": 1,
   "id": "8079ce55",
   "metadata": {},
   "outputs": [
    {
     "name": "stdout",
     "output_type": "stream",
     "text": [
      "[1, 2, 3, 1, 5, 6, 1]\n"
     ]
    }
   ],
   "source": [
    "li=[12, 14, 15, 7, 15, 17,5]\n",
    "out=[]\n",
    "for i in range(len(li)):\n",
    "    mark=1\n",
    "    for j in range(0,i):\n",
    "        if li[i]>=li[j]:\n",
    "            mark += 1\n",
    "        \n",
    "    out.append(mark)\n",
    "\n",
    "print(out)\n"
   ]
  },
  {
   "cell_type": "markdown",
   "id": "8d0a70b2",
   "metadata": {},
   "source": []
  },
  {
   "cell_type": "code",
   "execution_count": null,
   "id": "fb23a3eb",
   "metadata": {},
   "outputs": [
    {
     "name": "stdout",
     "output_type": "stream",
     "text": [
      "1  , \n",
      "2  , \n",
      "3  , \n",
      "1  , \n",
      "5  , \n",
      "6  , \n",
      "1  , \n"
     ]
    }
   ],
   "source": [
    "def func(li):\n",
    "       \n",
    "\n",
    "    for i in range(len(li)):\n",
    "        mark=1\n",
    "        for j in range(0,i):\n",
    "            if li[i]>=li[j]:\n",
    "                mark += 1\n",
    "            \n",
    "        print(mark,\" \")\n",
    "\n",
    "\n",
    "\n",
    "\n",
    "\n",
    "\n",
    "li=[12, 14, 15, 7, 15, 17,5]\n",
    "func(li)"
   ]
  },
  {
   "cell_type": "code",
   "execution_count": 7,
   "id": "df642d73",
   "metadata": {},
   "outputs": [
    {
     "name": "stdout",
     "output_type": "stream",
     "text": [
      "[1, 1, 1, 1, 1, 1, 1]\n"
     ]
    }
   ],
   "source": [
    "li=[12, 14, 15, 7, 15, 17,5]\n",
    "out=[1]  * len(li) \n",
    "print(out)"
   ]
  },
  {
   "cell_type": "code",
   "execution_count": 24,
   "id": "334d38fb",
   "metadata": {},
   "outputs": [
    {
     "name": "stdout",
     "output_type": "stream",
     "text": [
      "[12, 14, 15, 7, 15, 17, 5]\n",
      "[1, 1, 1, 1, 1, 1, 1]\n",
      "[12, 14, 15, 7, 15, 17, 5]\n",
      "14\n",
      "Step:  1  :  [1, 2, 1, 1, 1, 1, 1]\n",
      "15\n",
      "Step:  2  :  [1, 2, 2, 1, 1, 1, 1]\n",
      "7\n",
      "Step:  3  :  [1, 2, 2, 1, 1, 1, 1]\n",
      "15\n",
      "Step:  4  :  [1, 2, 2, 1, 2, 1, 1]\n",
      "17\n",
      "Step:  5  :  [1, 2, 2, 1, 2, 2, 1]\n",
      "[1, 2, 2, 1, 2, 2, 1]\n"
     ]
    }
   ],
   "source": [
    "li=[12, 14, 15, 7, 15, 17,5]\n",
    "print(li)\n",
    "out=[1]  * len(li) \n",
    "\n",
    "print(out)\n",
    "print(li)\n",
    "for i in range(1,len(li)-1,1):\n",
    "    print(li[i])\n",
    "    if li[i]>li[i-1]:\n",
    "        out[i] += 1\n",
    "    print(\"Step: \", i,\" : \", out)\n",
    "print(out)\n",
    "#[1, 2, 3, 1, 5, 6, 1]"
   ]
  },
  {
   "cell_type": "code",
   "execution_count": null,
   "id": "7a028746",
   "metadata": {},
   "outputs": [],
   "source": [
    "#use stack\n",
    "pi = []\n",
    "\n",
    "for i in range(len(li)):\n",
    "                   "
   ]
  },
  {
   "cell_type": "code",
   "execution_count": 25,
   "id": "692e1747",
   "metadata": {},
   "outputs": [
    {
     "name": "stdout",
     "output_type": "stream",
     "text": [
      "1 2 3 1 5 6 1 "
     ]
    }
   ],
   "source": [
    "def stockSpan(arr):\n",
    "    stack = []\n",
    "    stack.append(0)\n",
    "    print(1, end=\" \")\n",
    "\n",
    "    for i in range(1, len(arr)):\n",
    "        while len(stack) != 0 and arr[stack[-1]] <= arr[i]:\n",
    "            stack.pop()\n",
    "\n",
    "        if len(stack) == 0:\n",
    "            print(i + 1, end=\" \")\n",
    "        else:\n",
    "            print(i - stack[-1], end=\" \")\n",
    "\n",
    "        stack.append(i)\n",
    "\n",
    "# Driver Code\n",
    "arr = [12, 14, 15, 7, 15, 17, 5]\n",
    "stockSpan(arr)"
   ]
  },
  {
   "cell_type": "code",
   "execution_count": null,
   "id": "19a1cd5c",
   "metadata": {},
   "outputs": [],
   "source": []
  }
 ],
 "metadata": {
  "kernelspec": {
   "display_name": "venv",
   "language": "python",
   "name": "python3"
  },
  "language_info": {
   "codemirror_mode": {
    "name": "ipython",
    "version": 3
   },
   "file_extension": ".py",
   "mimetype": "text/x-python",
   "name": "python",
   "nbconvert_exporter": "python",
   "pygments_lexer": "ipython3",
   "version": "3.14.0"
  }
 },
 "nbformat": 4,
 "nbformat_minor": 5
}
