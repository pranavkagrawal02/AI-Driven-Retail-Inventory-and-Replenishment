{
 "cells": [
  {
   "cell_type": "code",
   "execution_count": null,
   "id": "3efb9c58",
   "metadata": {},
   "outputs": [],
   "source": [
    "import pandas as pd\n",
    "import matplotlib.pyplot as plt\n",
    "from pathlib import Path\n",
    "sales_train_evaluation_dataframe = pd.read_csv(\"../data/sales_train_validation.csv\")\n",
    "stvdf=sales_train_evaluation_dataframe\n",
    "p = Path.cwd()\n",
    "while not (p / \"data\").exists() and p != p.parent:\n",
    "    p = p.parent\n",
    "DATA_DIR = p / \"data\"          # .../AIretail/data\n",
    "print(\"\\nLoaded from:\", DATA_DIR)\n",
    "print(\"\\nColumns:\", stvdf.columns.tolist())\n",
    "print(\"\\nFirst row:\", stvdf.iloc[0].tolist())\n",
    "labels = stvdf.columns.tolist()\n",
    "sizes = []\n",
    "for i in range(len(stvdf.columns.tolist())):\n",
    "    sizes.append(1)\n",
    "print(\"\\nColoums in sales_train_evaluation.csv Dataset\")\n",
    "for i in range(len(stvdf.columns.tolist())):\n",
    "    print(i+1,\": \",stvdf.columns.tolist()[i])\n",
    "plt.pie(sizes, labels=labels, autopct='%1.0f%%', startangle=90)\n",
    "plt.axis('equal')  # Ensures circular pie\n",
    "plt.title('Pie Chart: Coloums in sales_train_evaluation.csv Dataset')\n",
    "plt.show()"
   ]
  },
  {
   "cell_type": "code",
   "execution_count": null,
   "id": "b4ce4f15",
   "metadata": {},
   "outputs": [],
   "source": []
  }
 ],
 "metadata": {
  "kernelspec": {
   "display_name": "venv",
   "language": "python",
   "name": "python3"
  },
  "language_info": {
   "codemirror_mode": {
    "name": "ipython",
    "version": 3
   },
   "file_extension": ".py",
   "mimetype": "text/x-python",
   "name": "python",
   "nbconvert_exporter": "python",
   "pygments_lexer": "ipython3",
   "version": "3.14.0"
  }
 },
 "nbformat": 4,
 "nbformat_minor": 5
}
