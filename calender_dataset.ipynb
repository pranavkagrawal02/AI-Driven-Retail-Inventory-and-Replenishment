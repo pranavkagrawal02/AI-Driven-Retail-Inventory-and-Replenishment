{
 "cells": [
  {
   "cell_type": "code",
   "execution_count": null,
   "id": "a2ee68f9",
   "metadata": {},
   "outputs": [],
   "source": [
    "import pandas as pd \n",
    "import matplotlib.pyplot as plt \n",
    " \n",
    "# Read CSV file \n",
    "df = pd.read_csv(\"daily_steps.csv\") "
   ]
  }
 ],
 "metadata": {
  "language_info": {
   "name": "python"
  }
 },
 "nbformat": 4,
 "nbformat_minor": 5
}
